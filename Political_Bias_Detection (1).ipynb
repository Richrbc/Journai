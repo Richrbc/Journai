{
  "nbformat": 4,
  "nbformat_minor": 0,
  "metadata": {
    "colab": {
      "name": "Political_Bias_Detection.ipynb",
      "provenance": []
    },
    "kernelspec": {
      "name": "python3",
      "display_name": "Python 3"
    }
  },
  "cells": [
    {
      "cell_type": "code",
      "metadata": {
        "id": "9FhM5LDNaGVj",
        "colab_type": "code",
        "colab": {}
      },
      "source": [
        "corpus = ['Trump is a good man', \n",
        "          'Elizabeth is a bad woman', \n",
        "          'boy is a young man',\n",
        "          'girl is a young woman',\n",
        "          'prince is a young king',\n",
        "          'princess is a young queen',\n",
        "          'man is strong', \n",
        "          'woman is pretty',\n",
        "          'prince is a boy will be king',\n",
        "          'liberal bias is a clever fairytale that allows the right to police the corporation']"
      ],
      "execution_count": 0,
      "outputs": []
    },
    {
      "cell_type": "markdown",
      "metadata": {
        "id": "CwmDP1puovb2",
        "colab_type": "text"
      },
      "source": [
        "Here you can paste the article you're reading and would like to classify for bias"
      ]
    },
    {
      "cell_type": "code",
      "metadata": {
        "id": "RtyMu3MZaTw5",
        "colab_type": "code",
        "colab": {}
      },
      "source": [
        "def remove_stop_words(corpus):\n",
        "    stop_words = ['is', 'a', 'will', 'be','that', 'to']\n",
        "    results = []\n",
        "    for text in corpus:\n",
        "        tmp = text.split(' ')\n",
        "        for stop_word in stop_words:\n",
        "            if stop_word in tmp:\n",
        "                tmp.remove(stop_word)\n",
        "        results.append(\" \".join(tmp))\n",
        "    \n",
        "    return results"
      ],
      "execution_count": 0,
      "outputs": []
    },
    {
      "cell_type": "code",
      "metadata": {
        "id": "UkcwI5I5aZH2",
        "colab_type": "code",
        "colab": {}
      },
      "source": [
        "corpus = remove_stop_words(corpus)"
      ],
      "execution_count": 0,
      "outputs": []
    },
    {
      "cell_type": "markdown",
      "metadata": {
        "id": "60sQnGu7pTji",
        "colab_type": "text"
      },
      "source": [
        "Here the program removes all words which don't add value to the classification of the political polarity of the text. "
      ]
    },
    {
      "cell_type": "code",
      "metadata": {
        "id": "4jDy8X3Macpx",
        "colab_type": "code",
        "colab": {}
      },
      "source": [
        "words = []\n",
        "for text in corpus:\n",
        "    for word in text.split(' '):\n",
        "        words.append(word)\n",
        "\n",
        "words = set(words) "
      ],
      "execution_count": 0,
      "outputs": []
    },
    {
      "cell_type": "code",
      "metadata": {
        "id": "H5fv6_sxaf4K",
        "colab_type": "code",
        "outputId": "43b4a5c6-65e0-484d-f53e-3fac470bb664",
        "colab": {
          "base_uri": "https://localhost:8080/",
          "height": 425
        }
      },
      "source": [
        "words "
      ],
      "execution_count": 0,
      "outputs": [
        {
          "output_type": "execute_result",
          "data": {
            "text/plain": [
              "{'Elizabeth',\n",
              " 'Trump',\n",
              " 'allows',\n",
              " 'bad',\n",
              " 'bias',\n",
              " 'boy',\n",
              " 'clever',\n",
              " 'corporation',\n",
              " 'fairytale',\n",
              " 'girl',\n",
              " 'good',\n",
              " 'king',\n",
              " 'liberal',\n",
              " 'man',\n",
              " 'police',\n",
              " 'pretty',\n",
              " 'prince',\n",
              " 'princess',\n",
              " 'queen',\n",
              " 'right',\n",
              " 'strong',\n",
              " 'the',\n",
              " 'woman',\n",
              " 'young'}"
            ]
          },
          "metadata": {
            "tags": []
          },
          "execution_count": 43
        }
      ]
    },
    {
      "cell_type": "code",
      "metadata": {
        "id": "OdFek6hIamWA",
        "colab_type": "code",
        "colab": {}
      },
      "source": [
        "word2int = {}\n",
        "\n",
        "for i,word in enumerate(words):\n",
        "    word2int[word] = i\n",
        "\n",
        "sentences = []\n",
        "for sentence in corpus:\n",
        "    sentences.append(sentence.split())\n",
        "    \n",
        "WINDOW_SIZE = 2\n",
        "\n",
        "data = []\n",
        "for sentence in sentences:\n",
        "    for idx, word in enumerate(sentence):\n",
        "        for neighbor in sentence[max(idx - WINDOW_SIZE, 0) : min(idx + WINDOW_SIZE, len(sentence)) + 1] : \n",
        "            if neighbor != word:\n",
        "                data.append([word, neighbor])"
      ],
      "execution_count": 0,
      "outputs": []
    },
    {
      "cell_type": "code",
      "metadata": {
        "id": "FeoAqqdharC7",
        "colab_type": "code",
        "outputId": "24cee8fe-6b4e-41a3-8067-4f6899293074",
        "colab": {
          "base_uri": "https://localhost:8080/",
          "height": 187
        }
      },
      "source": [
        "import pandas as pd\n",
        "for text in corpus:\n",
        "    print(text)\n",
        "\n",
        "df = pd.DataFrame(data, columns = ['input', 'label'])"
      ],
      "execution_count": 0,
      "outputs": [
        {
          "output_type": "stream",
          "text": [
            "Trump good man\n",
            "Elizabeth bad woman\n",
            "boy young man\n",
            "girl young woman\n",
            "prince young king\n",
            "princess young queen\n",
            "man strong\n",
            "woman pretty\n",
            "prince boy king\n",
            "liberal bias clever fairytale allows the right police the corporation\n"
          ],
          "name": "stdout"
        }
      ]
    },
    {
      "cell_type": "markdown",
      "metadata": {
        "id": "bWOZuGVuqHcs",
        "colab_type": "text"
      },
      "source": [
        "Down here the program forms the phrases without the filler words which don't add value to the classification. This will already give a good scope of the bias in the text."
      ]
    },
    {
      "cell_type": "code",
      "metadata": {
        "id": "ibouXToaavcX",
        "colab_type": "code",
        "outputId": "aabe7b82-25b9-4742-a19f-4356eade10a7",
        "colab": {
          "base_uri": "https://localhost:8080/",
          "height": 1000
        }
      },
      "source": [
        "df.head(50)"
      ],
      "execution_count": 0,
      "outputs": [
        {
          "output_type": "execute_result",
          "data": {
            "text/html": [
              "<div>\n",
              "<style scoped>\n",
              "    .dataframe tbody tr th:only-of-type {\n",
              "        vertical-align: middle;\n",
              "    }\n",
              "\n",
              "    .dataframe tbody tr th {\n",
              "        vertical-align: top;\n",
              "    }\n",
              "\n",
              "    .dataframe thead th {\n",
              "        text-align: right;\n",
              "    }\n",
              "</style>\n",
              "<table border=\"1\" class=\"dataframe\">\n",
              "  <thead>\n",
              "    <tr style=\"text-align: right;\">\n",
              "      <th></th>\n",
              "      <th>input</th>\n",
              "      <th>label</th>\n",
              "    </tr>\n",
              "  </thead>\n",
              "  <tbody>\n",
              "    <tr>\n",
              "      <th>0</th>\n",
              "      <td>Trump</td>\n",
              "      <td>good</td>\n",
              "    </tr>\n",
              "    <tr>\n",
              "      <th>1</th>\n",
              "      <td>Trump</td>\n",
              "      <td>man</td>\n",
              "    </tr>\n",
              "    <tr>\n",
              "      <th>2</th>\n",
              "      <td>good</td>\n",
              "      <td>Trump</td>\n",
              "    </tr>\n",
              "    <tr>\n",
              "      <th>3</th>\n",
              "      <td>good</td>\n",
              "      <td>man</td>\n",
              "    </tr>\n",
              "    <tr>\n",
              "      <th>4</th>\n",
              "      <td>man</td>\n",
              "      <td>Trump</td>\n",
              "    </tr>\n",
              "    <tr>\n",
              "      <th>5</th>\n",
              "      <td>man</td>\n",
              "      <td>good</td>\n",
              "    </tr>\n",
              "    <tr>\n",
              "      <th>6</th>\n",
              "      <td>Elizabeth</td>\n",
              "      <td>bad</td>\n",
              "    </tr>\n",
              "    <tr>\n",
              "      <th>7</th>\n",
              "      <td>Elizabeth</td>\n",
              "      <td>woman</td>\n",
              "    </tr>\n",
              "    <tr>\n",
              "      <th>8</th>\n",
              "      <td>bad</td>\n",
              "      <td>Elizabeth</td>\n",
              "    </tr>\n",
              "    <tr>\n",
              "      <th>9</th>\n",
              "      <td>bad</td>\n",
              "      <td>woman</td>\n",
              "    </tr>\n",
              "    <tr>\n",
              "      <th>10</th>\n",
              "      <td>woman</td>\n",
              "      <td>Elizabeth</td>\n",
              "    </tr>\n",
              "    <tr>\n",
              "      <th>11</th>\n",
              "      <td>woman</td>\n",
              "      <td>bad</td>\n",
              "    </tr>\n",
              "    <tr>\n",
              "      <th>12</th>\n",
              "      <td>boy</td>\n",
              "      <td>young</td>\n",
              "    </tr>\n",
              "    <tr>\n",
              "      <th>13</th>\n",
              "      <td>boy</td>\n",
              "      <td>man</td>\n",
              "    </tr>\n",
              "    <tr>\n",
              "      <th>14</th>\n",
              "      <td>young</td>\n",
              "      <td>boy</td>\n",
              "    </tr>\n",
              "    <tr>\n",
              "      <th>15</th>\n",
              "      <td>young</td>\n",
              "      <td>man</td>\n",
              "    </tr>\n",
              "    <tr>\n",
              "      <th>16</th>\n",
              "      <td>man</td>\n",
              "      <td>boy</td>\n",
              "    </tr>\n",
              "    <tr>\n",
              "      <th>17</th>\n",
              "      <td>man</td>\n",
              "      <td>young</td>\n",
              "    </tr>\n",
              "    <tr>\n",
              "      <th>18</th>\n",
              "      <td>girl</td>\n",
              "      <td>young</td>\n",
              "    </tr>\n",
              "    <tr>\n",
              "      <th>19</th>\n",
              "      <td>girl</td>\n",
              "      <td>woman</td>\n",
              "    </tr>\n",
              "    <tr>\n",
              "      <th>20</th>\n",
              "      <td>young</td>\n",
              "      <td>girl</td>\n",
              "    </tr>\n",
              "    <tr>\n",
              "      <th>21</th>\n",
              "      <td>young</td>\n",
              "      <td>woman</td>\n",
              "    </tr>\n",
              "    <tr>\n",
              "      <th>22</th>\n",
              "      <td>woman</td>\n",
              "      <td>girl</td>\n",
              "    </tr>\n",
              "    <tr>\n",
              "      <th>23</th>\n",
              "      <td>woman</td>\n",
              "      <td>young</td>\n",
              "    </tr>\n",
              "    <tr>\n",
              "      <th>24</th>\n",
              "      <td>prince</td>\n",
              "      <td>young</td>\n",
              "    </tr>\n",
              "    <tr>\n",
              "      <th>25</th>\n",
              "      <td>prince</td>\n",
              "      <td>king</td>\n",
              "    </tr>\n",
              "    <tr>\n",
              "      <th>26</th>\n",
              "      <td>young</td>\n",
              "      <td>prince</td>\n",
              "    </tr>\n",
              "    <tr>\n",
              "      <th>27</th>\n",
              "      <td>young</td>\n",
              "      <td>king</td>\n",
              "    </tr>\n",
              "    <tr>\n",
              "      <th>28</th>\n",
              "      <td>king</td>\n",
              "      <td>prince</td>\n",
              "    </tr>\n",
              "    <tr>\n",
              "      <th>29</th>\n",
              "      <td>king</td>\n",
              "      <td>young</td>\n",
              "    </tr>\n",
              "    <tr>\n",
              "      <th>30</th>\n",
              "      <td>princess</td>\n",
              "      <td>young</td>\n",
              "    </tr>\n",
              "    <tr>\n",
              "      <th>31</th>\n",
              "      <td>princess</td>\n",
              "      <td>queen</td>\n",
              "    </tr>\n",
              "    <tr>\n",
              "      <th>32</th>\n",
              "      <td>young</td>\n",
              "      <td>princess</td>\n",
              "    </tr>\n",
              "    <tr>\n",
              "      <th>33</th>\n",
              "      <td>young</td>\n",
              "      <td>queen</td>\n",
              "    </tr>\n",
              "    <tr>\n",
              "      <th>34</th>\n",
              "      <td>queen</td>\n",
              "      <td>princess</td>\n",
              "    </tr>\n",
              "    <tr>\n",
              "      <th>35</th>\n",
              "      <td>queen</td>\n",
              "      <td>young</td>\n",
              "    </tr>\n",
              "    <tr>\n",
              "      <th>36</th>\n",
              "      <td>man</td>\n",
              "      <td>strong</td>\n",
              "    </tr>\n",
              "    <tr>\n",
              "      <th>37</th>\n",
              "      <td>strong</td>\n",
              "      <td>man</td>\n",
              "    </tr>\n",
              "    <tr>\n",
              "      <th>38</th>\n",
              "      <td>woman</td>\n",
              "      <td>pretty</td>\n",
              "    </tr>\n",
              "    <tr>\n",
              "      <th>39</th>\n",
              "      <td>pretty</td>\n",
              "      <td>woman</td>\n",
              "    </tr>\n",
              "    <tr>\n",
              "      <th>40</th>\n",
              "      <td>prince</td>\n",
              "      <td>boy</td>\n",
              "    </tr>\n",
              "    <tr>\n",
              "      <th>41</th>\n",
              "      <td>prince</td>\n",
              "      <td>king</td>\n",
              "    </tr>\n",
              "    <tr>\n",
              "      <th>42</th>\n",
              "      <td>boy</td>\n",
              "      <td>prince</td>\n",
              "    </tr>\n",
              "    <tr>\n",
              "      <th>43</th>\n",
              "      <td>boy</td>\n",
              "      <td>king</td>\n",
              "    </tr>\n",
              "    <tr>\n",
              "      <th>44</th>\n",
              "      <td>king</td>\n",
              "      <td>prince</td>\n",
              "    </tr>\n",
              "    <tr>\n",
              "      <th>45</th>\n",
              "      <td>king</td>\n",
              "      <td>boy</td>\n",
              "    </tr>\n",
              "    <tr>\n",
              "      <th>46</th>\n",
              "      <td>liberal</td>\n",
              "      <td>bias</td>\n",
              "    </tr>\n",
              "    <tr>\n",
              "      <th>47</th>\n",
              "      <td>liberal</td>\n",
              "      <td>clever</td>\n",
              "    </tr>\n",
              "    <tr>\n",
              "      <th>48</th>\n",
              "      <td>bias</td>\n",
              "      <td>liberal</td>\n",
              "    </tr>\n",
              "    <tr>\n",
              "      <th>49</th>\n",
              "      <td>bias</td>\n",
              "      <td>clever</td>\n",
              "    </tr>\n",
              "  </tbody>\n",
              "</table>\n",
              "</div>"
            ],
            "text/plain": [
              "        input      label\n",
              "0       Trump       good\n",
              "1       Trump        man\n",
              "2        good      Trump\n",
              "3        good        man\n",
              "4         man      Trump\n",
              "5         man       good\n",
              "6   Elizabeth        bad\n",
              "7   Elizabeth      woman\n",
              "8         bad  Elizabeth\n",
              "9         bad      woman\n",
              "10      woman  Elizabeth\n",
              "11      woman        bad\n",
              "12        boy      young\n",
              "13        boy        man\n",
              "14      young        boy\n",
              "15      young        man\n",
              "16        man        boy\n",
              "17        man      young\n",
              "18       girl      young\n",
              "19       girl      woman\n",
              "20      young       girl\n",
              "21      young      woman\n",
              "22      woman       girl\n",
              "23      woman      young\n",
              "24     prince      young\n",
              "25     prince       king\n",
              "26      young     prince\n",
              "27      young       king\n",
              "28       king     prince\n",
              "29       king      young\n",
              "30   princess      young\n",
              "31   princess      queen\n",
              "32      young   princess\n",
              "33      young      queen\n",
              "34      queen   princess\n",
              "35      queen      young\n",
              "36        man     strong\n",
              "37     strong        man\n",
              "38      woman     pretty\n",
              "39     pretty      woman\n",
              "40     prince        boy\n",
              "41     prince       king\n",
              "42        boy     prince\n",
              "43        boy       king\n",
              "44       king     prince\n",
              "45       king        boy\n",
              "46    liberal       bias\n",
              "47    liberal     clever\n",
              "48       bias    liberal\n",
              "49       bias     clever"
            ]
          },
          "metadata": {
            "tags": []
          },
          "execution_count": 46
        }
      ]
    },
    {
      "cell_type": "code",
      "metadata": {
        "id": "BfJPxZDda2Oc",
        "colab_type": "code",
        "outputId": "76a053a8-6340-4a59-e3f0-0d63970fc8a1",
        "colab": {
          "base_uri": "https://localhost:8080/",
          "height": 34
        }
      },
      "source": [
        "df.shape"
      ],
      "execution_count": 0,
      "outputs": [
        {
          "output_type": "execute_result",
          "data": {
            "text/plain": [
              "(80, 2)"
            ]
          },
          "metadata": {
            "tags": []
          },
          "execution_count": 47
        }
      ]
    },
    {
      "cell_type": "code",
      "metadata": {
        "id": "jKhpvID2a4HF",
        "colab_type": "code",
        "outputId": "70d47b6e-b157-430f-f92e-7e96bd6b7f89",
        "colab": {
          "base_uri": "https://localhost:8080/",
          "height": 425
        }
      },
      "source": [
        "word2int"
      ],
      "execution_count": 0,
      "outputs": [
        {
          "output_type": "execute_result",
          "data": {
            "text/plain": [
              "{'Elizabeth': 19,\n",
              " 'Trump': 20,\n",
              " 'allows': 16,\n",
              " 'bad': 3,\n",
              " 'bias': 12,\n",
              " 'boy': 15,\n",
              " 'clever': 2,\n",
              " 'corporation': 8,\n",
              " 'fairytale': 1,\n",
              " 'girl': 0,\n",
              " 'good': 22,\n",
              " 'king': 7,\n",
              " 'liberal': 11,\n",
              " 'man': 4,\n",
              " 'police': 6,\n",
              " 'pretty': 21,\n",
              " 'prince': 17,\n",
              " 'princess': 23,\n",
              " 'queen': 5,\n",
              " 'right': 9,\n",
              " 'strong': 14,\n",
              " 'the': 13,\n",
              " 'woman': 18,\n",
              " 'young': 10}"
            ]
          },
          "metadata": {
            "tags": []
          },
          "execution_count": 48
        }
      ]
    },
    {
      "cell_type": "markdown",
      "metadata": {
        "id": "61omLcZ4qpTV",
        "colab_type": "text"
      },
      "source": [
        "Using the word2int function the vector program assigned a random mathematical integer to each word."
      ]
    },
    {
      "cell_type": "code",
      "metadata": {
        "id": "bDsht_4KbAjM",
        "colab_type": "code",
        "colab": {}
      },
      "source": [
        "import tensorflow as tf\n",
        "import numpy as np\n",
        "\n",
        "ONE_HOT_DIM = len(words)\n",
        "\n",
        "# function to convert numbers to one hot vectors\n",
        "def to_one_hot_encoding(data_point_index):\n",
        "    one_hot_encoding = np.zeros(ONE_HOT_DIM)\n",
        "    one_hot_encoding[data_point_index] = 1\n",
        "    return one_hot_encoding\n",
        "\n",
        "X = [] # input word\n",
        "Y = [] # target word\n",
        "\n",
        "for x, y in zip(df['input'], df['label']):\n",
        "    X.append(to_one_hot_encoding(word2int[ x ]))\n",
        "    Y.append(to_one_hot_encoding(word2int[ y ]))\n",
        "\n",
        "# convert them to numpy arrays\n",
        "X_train = np.asarray(X)\n",
        "Y_train = np.asarray(Y)\n",
        "\n",
        "# making placeholders for X_train and Y_train\n",
        "x = tf.placeholder(tf.float32, shape=(None, ONE_HOT_DIM))\n",
        "y_label = tf.placeholder(tf.float32, shape=(None, ONE_HOT_DIM))\n",
        "\n",
        "# word embedding will be 2 dimension for 2d visualization\n",
        "EMBEDDING_DIM = 2 \n",
        "\n",
        "# hidden layer: which represents word vector eventually\n",
        "W1 = tf.Variable(tf.random_normal([ONE_HOT_DIM, EMBEDDING_DIM]))\n",
        "b1 = tf.Variable(tf.random_normal([1])) #bias\n",
        "hidden_layer = tf.add(tf.matmul(x,W1), b1)\n",
        "\n",
        "# output layer\n",
        "W2 = tf.Variable(tf.random_normal([EMBEDDING_DIM, ONE_HOT_DIM]))\n",
        "b2 = tf.Variable(tf.random_normal([1]))\n",
        "prediction = tf.nn.softmax(tf.add( tf.matmul(hidden_layer, W2), b2))\n",
        "\n",
        "# loss function: cross entropy\n",
        "loss = tf.reduce_mean(-tf.reduce_sum(y_label * tf.log(prediction), axis=[1]))\n",
        "\n",
        "# training operation\n",
        "train_op = tf.train.GradientDescentOptimizer(0.05).minimize(loss)"
      ],
      "execution_count": 0,
      "outputs": []
    },
    {
      "cell_type": "markdown",
      "metadata": {
        "id": "QpXIjSj2q7-P",
        "colab_type": "text"
      },
      "source": [
        "This is the contruction of the real time neural network begins. The training of the neural network begins."
      ]
    },
    {
      "cell_type": "code",
      "metadata": {
        "id": "szPdTJnFbP8c",
        "colab_type": "code",
        "outputId": "e3de2005-e422-47f7-df87-a82d850a980f",
        "colab": {
          "base_uri": "https://localhost:8080/",
          "height": 136
        }
      },
      "source": [
        "sess = tf.Session()\n",
        "init = tf.global_variables_initializer()\n",
        "sess.run(init) \n",
        "\n",
        "iteration = 20000\n",
        "for i in range(iteration):\n",
        "    # input is X_train which is one hot encoded word\n",
        "    # label is Y_train which is one hot encoded neighbor word\n",
        "    sess.run(train_op, feed_dict={x: X_train, y_label: Y_train})\n",
        "    if i % 3000 == 0:\n",
        "        print('iteration '+str(i)+' loss is : ', sess.run(loss, feed_dict={x: X_train, y_label: Y_train}))"
      ],
      "execution_count": 0,
      "outputs": [
        {
          "output_type": "stream",
          "text": [
            "iteration 0 loss is :  5.0256166\n",
            "iteration 3000 loss is :  2.0835366\n",
            "iteration 6000 loss is :  1.932764\n",
            "iteration 9000 loss is :  1.887483\n",
            "iteration 12000 loss is :  1.8598626\n",
            "iteration 15000 loss is :  1.8356292\n",
            "iteration 18000 loss is :  1.8164549\n"
          ],
          "name": "stdout"
        }
      ]
    },
    {
      "cell_type": "markdown",
      "metadata": {
        "id": "UYmNbriHPofy",
        "colab_type": "text"
      },
      "source": [
        "This is where the loss function of the "
      ]
    },
    {
      "cell_type": "code",
      "metadata": {
        "id": "4glZ4XSWdZ2_",
        "colab_type": "code",
        "outputId": "cc013a5b-c3ed-4018-9416-06e030294021",
        "colab": {
          "base_uri": "https://localhost:8080/",
          "height": 425
        }
      },
      "source": [
        "# Now the hidden layer (W1 + b1) is actually the word look up table\n",
        "vectors = sess.run(W1 + b1)\n",
        "print(vectors)"
      ],
      "execution_count": 0,
      "outputs": [
        {
          "output_type": "stream",
          "text": [
            "[[-0.38691488 -0.48051703]\n",
            " [ 2.4028375  -0.24208724]\n",
            " [ 1.4383802  -0.46175033]\n",
            " [-0.00975849 -0.27867463]\n",
            " [-0.82742894 -0.41247627]\n",
            " [-2.5078943   1.9804287 ]\n",
            " [ 2.5960634   1.8210754 ]\n",
            " [-4.928824   -1.772309  ]\n",
            " [ 2.8354807   3.5880404 ]\n",
            " [ 2.7418573   2.3243878 ]\n",
            " [-0.62008685 -0.25607863]\n",
            " [ 3.63861    -2.2088008 ]\n",
            " [ 2.6413233  -0.8635537 ]\n",
            " [ 0.90142256  0.8824371 ]\n",
            " [-2.2691844  -2.8259983 ]\n",
            " [-4.4541206  -1.9805961 ]\n",
            " [ 4.0291743   0.04875274]\n",
            " [-3.8245468  -0.6071117 ]\n",
            " [-2.5330403   5.1073437 ]\n",
            " [-0.00747583 -0.27746403]\n",
            " [-1.3548391  -1.5102036 ]\n",
            " [ 1.0816041  -3.3310277 ]\n",
            " [-1.3913949  -1.6926523 ]\n",
            " [-2.1215308   1.2370983 ]]\n"
          ],
          "name": "stdout"
        }
      ]
    },
    {
      "cell_type": "markdown",
      "metadata": {
        "id": "kwx-CDVpQfOs",
        "colab_type": "text"
      },
      "source": [
        "After running it through the neural network this is the values returned. "
      ]
    },
    {
      "cell_type": "code",
      "metadata": {
        "id": "q6bPY8ardsbr",
        "colab_type": "code",
        "outputId": "5934c046-96b1-4398-ac01-55de4b90eba8",
        "colab": {
          "base_uri": "https://localhost:8080/",
          "height": 793
        }
      },
      "source": [
        "w2v_df = pd.DataFrame(vectors, columns = ['Output 1', 'Output 2',])\n",
        "w2v_df['word'] = words\n",
        "w2v_df = w2v_df[['word', 'Output 1', 'Output 2']]\n",
        "w2v_df"
      ],
      "execution_count": 0,
      "outputs": [
        {
          "output_type": "execute_result",
          "data": {
            "text/html": [
              "<div>\n",
              "<style scoped>\n",
              "    .dataframe tbody tr th:only-of-type {\n",
              "        vertical-align: middle;\n",
              "    }\n",
              "\n",
              "    .dataframe tbody tr th {\n",
              "        vertical-align: top;\n",
              "    }\n",
              "\n",
              "    .dataframe thead th {\n",
              "        text-align: right;\n",
              "    }\n",
              "</style>\n",
              "<table border=\"1\" class=\"dataframe\">\n",
              "  <thead>\n",
              "    <tr style=\"text-align: right;\">\n",
              "      <th></th>\n",
              "      <th>word</th>\n",
              "      <th>Output 1</th>\n",
              "      <th>Output 2</th>\n",
              "    </tr>\n",
              "  </thead>\n",
              "  <tbody>\n",
              "    <tr>\n",
              "      <th>0</th>\n",
              "      <td>girl</td>\n",
              "      <td>-0.386915</td>\n",
              "      <td>-0.480517</td>\n",
              "    </tr>\n",
              "    <tr>\n",
              "      <th>1</th>\n",
              "      <td>fairytale</td>\n",
              "      <td>2.402838</td>\n",
              "      <td>-0.242087</td>\n",
              "    </tr>\n",
              "    <tr>\n",
              "      <th>2</th>\n",
              "      <td>clever</td>\n",
              "      <td>1.438380</td>\n",
              "      <td>-0.461750</td>\n",
              "    </tr>\n",
              "    <tr>\n",
              "      <th>3</th>\n",
              "      <td>bad</td>\n",
              "      <td>-0.009758</td>\n",
              "      <td>-0.278675</td>\n",
              "    </tr>\n",
              "    <tr>\n",
              "      <th>4</th>\n",
              "      <td>man</td>\n",
              "      <td>-0.827429</td>\n",
              "      <td>-0.412476</td>\n",
              "    </tr>\n",
              "    <tr>\n",
              "      <th>5</th>\n",
              "      <td>queen</td>\n",
              "      <td>-2.507894</td>\n",
              "      <td>1.980429</td>\n",
              "    </tr>\n",
              "    <tr>\n",
              "      <th>6</th>\n",
              "      <td>police</td>\n",
              "      <td>2.596063</td>\n",
              "      <td>1.821075</td>\n",
              "    </tr>\n",
              "    <tr>\n",
              "      <th>7</th>\n",
              "      <td>king</td>\n",
              "      <td>-4.928824</td>\n",
              "      <td>-1.772309</td>\n",
              "    </tr>\n",
              "    <tr>\n",
              "      <th>8</th>\n",
              "      <td>corporation</td>\n",
              "      <td>2.835481</td>\n",
              "      <td>3.588040</td>\n",
              "    </tr>\n",
              "    <tr>\n",
              "      <th>9</th>\n",
              "      <td>right</td>\n",
              "      <td>2.741857</td>\n",
              "      <td>2.324388</td>\n",
              "    </tr>\n",
              "    <tr>\n",
              "      <th>10</th>\n",
              "      <td>young</td>\n",
              "      <td>-0.620087</td>\n",
              "      <td>-0.256079</td>\n",
              "    </tr>\n",
              "    <tr>\n",
              "      <th>11</th>\n",
              "      <td>liberal</td>\n",
              "      <td>3.638610</td>\n",
              "      <td>-2.208801</td>\n",
              "    </tr>\n",
              "    <tr>\n",
              "      <th>12</th>\n",
              "      <td>bias</td>\n",
              "      <td>2.641323</td>\n",
              "      <td>-0.863554</td>\n",
              "    </tr>\n",
              "    <tr>\n",
              "      <th>13</th>\n",
              "      <td>the</td>\n",
              "      <td>0.901423</td>\n",
              "      <td>0.882437</td>\n",
              "    </tr>\n",
              "    <tr>\n",
              "      <th>14</th>\n",
              "      <td>strong</td>\n",
              "      <td>-2.269184</td>\n",
              "      <td>-2.825998</td>\n",
              "    </tr>\n",
              "    <tr>\n",
              "      <th>15</th>\n",
              "      <td>boy</td>\n",
              "      <td>-4.454121</td>\n",
              "      <td>-1.980596</td>\n",
              "    </tr>\n",
              "    <tr>\n",
              "      <th>16</th>\n",
              "      <td>allows</td>\n",
              "      <td>4.029174</td>\n",
              "      <td>0.048753</td>\n",
              "    </tr>\n",
              "    <tr>\n",
              "      <th>17</th>\n",
              "      <td>prince</td>\n",
              "      <td>-3.824547</td>\n",
              "      <td>-0.607112</td>\n",
              "    </tr>\n",
              "    <tr>\n",
              "      <th>18</th>\n",
              "      <td>woman</td>\n",
              "      <td>-2.533040</td>\n",
              "      <td>5.107344</td>\n",
              "    </tr>\n",
              "    <tr>\n",
              "      <th>19</th>\n",
              "      <td>Elizabeth</td>\n",
              "      <td>-0.007476</td>\n",
              "      <td>-0.277464</td>\n",
              "    </tr>\n",
              "    <tr>\n",
              "      <th>20</th>\n",
              "      <td>Trump</td>\n",
              "      <td>-1.354839</td>\n",
              "      <td>-1.510204</td>\n",
              "    </tr>\n",
              "    <tr>\n",
              "      <th>21</th>\n",
              "      <td>pretty</td>\n",
              "      <td>1.081604</td>\n",
              "      <td>-3.331028</td>\n",
              "    </tr>\n",
              "    <tr>\n",
              "      <th>22</th>\n",
              "      <td>good</td>\n",
              "      <td>-1.391395</td>\n",
              "      <td>-1.692652</td>\n",
              "    </tr>\n",
              "    <tr>\n",
              "      <th>23</th>\n",
              "      <td>princess</td>\n",
              "      <td>-2.121531</td>\n",
              "      <td>1.237098</td>\n",
              "    </tr>\n",
              "  </tbody>\n",
              "</table>\n",
              "</div>"
            ],
            "text/plain": [
              "           word  Output 1  Output 2\n",
              "0          girl -0.386915 -0.480517\n",
              "1     fairytale  2.402838 -0.242087\n",
              "2        clever  1.438380 -0.461750\n",
              "3           bad -0.009758 -0.278675\n",
              "4           man -0.827429 -0.412476\n",
              "5         queen -2.507894  1.980429\n",
              "6        police  2.596063  1.821075\n",
              "7          king -4.928824 -1.772309\n",
              "8   corporation  2.835481  3.588040\n",
              "9         right  2.741857  2.324388\n",
              "10        young -0.620087 -0.256079\n",
              "11      liberal  3.638610 -2.208801\n",
              "12         bias  2.641323 -0.863554\n",
              "13          the  0.901423  0.882437\n",
              "14       strong -2.269184 -2.825998\n",
              "15          boy -4.454121 -1.980596\n",
              "16       allows  4.029174  0.048753\n",
              "17       prince -3.824547 -0.607112\n",
              "18        woman -2.533040  5.107344\n",
              "19    Elizabeth -0.007476 -0.277464\n",
              "20        Trump -1.354839 -1.510204\n",
              "21       pretty  1.081604 -3.331028\n",
              "22         good -1.391395 -1.692652\n",
              "23     princess -2.121531  1.237098"
            ]
          },
          "metadata": {
            "tags": []
          },
          "execution_count": 52
        }
      ]
    },
    {
      "cell_type": "code",
      "metadata": {
        "id": "hl8h4_z5dx2w",
        "colab_type": "code",
        "outputId": "9af2170b-0ce6-45a7-9598-97fdd55ff1ff",
        "colab": {
          "base_uri": "https://localhost:8080/",
          "height": 596
        }
      },
      "source": [
        "import matplotlib.pyplot as plt\n",
        "\n",
        "fig, ax = plt.subplots()\n",
        "\n",
        "for word, x1, x2 in zip(w2v_df['word'], w2v_df['Output 1'], w2v_df['Output 2']):\n",
        "    ax.annotate(word, (x1,x2 ))\n",
        "    \n",
        "PADDING = 0.05\n",
        "x_axis_min = np.amin(vectors, axis=0)[0] - PADDING\n",
        "y_axis_min = np.amin(vectors, axis=0)[1] - PADDING\n",
        "x_axis_max = np.amax(vectors, axis=0)[0] + PADDING\n",
        "y_axis_max = np.amax(vectors, axis=0)[1] + PADDING\n",
        " \n",
        "plt.xlim(x_axis_min,x_axis_max)\n",
        "plt.ylim(y_axis_min,y_axis_max)\n",
        "plt.rcParams[\"figure.figsize\"] = (10,10)\n",
        "\n",
        "plt.show() "
      ],
      "execution_count": 0,
      "outputs": [
        {
          "output_type": "display_data",
          "data": {
            "image/png": "[encoded data removed]",
            "text/plain": [
              "<Figure size 720x720 with 1 Axes>"
            ]
          },
          "metadata": {
            "tags": []
          }
        }
      ]
    },
    {
      "cell_type": "markdown",
      "metadata": {
        "id": "aXqM1DIPQ1_U",
        "colab_type": "text"
      },
      "source": [
        "This is the final plotting of the data on a graph. This the neural networks best classification of words. "
      ]
    }
  ]
}